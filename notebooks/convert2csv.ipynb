{
 "cells": [
  {
   "cell_type": "code",
   "execution_count": 1,
   "metadata": {
    "collapsed": true
   },
   "outputs": [],
   "source": [
    "import pandas as pd"
   ]
  },
  {
   "cell_type": "code",
   "execution_count": 2,
   "outputs": [],
   "source": [
    "koch_df = pd.read_pickle(\"../data/curated/koch/orderentry.pickle\")\n",
    "vx_df = pd.read_pickle(\"../data/curated/vx/orderentry.pickle\")"
   ],
   "metadata": {
    "collapsed": false,
    "pycharm": {
     "name": "#%%\n"
    }
   }
  },
  {
   "cell_type": "code",
   "execution_count": 3,
   "outputs": [],
   "source": [
    "time_mask_koch = (pd.to_datetime(koch_df['time'],unit='s') > pd.to_datetime('2019-01-01 00:00:00')) & (pd.to_datetime(koch_df['time'],unit='s') < pd.to_datetime('2019-12-31 23:59:59'))\n",
    "time_mask_vx = (pd.to_datetime(vx_df['time'],unit='s') > pd.to_datetime('2019-01-01 00:00:00')) & (pd.to_datetime(vx_df['time'],unit='s') < pd.to_datetime('2019-12-31 23:59:59'))"
   ],
   "metadata": {
    "collapsed": false,
    "pycharm": {
     "name": "#%%\n"
    }
   }
  },
  {
   "cell_type": "code",
   "execution_count": 4,
   "outputs": [
    {
     "name": "stdout",
     "output_type": "stream",
     "text": [
      "koch: 2392220\n",
      "vx: 801584\n",
      "koch 2019: 945811\n",
      "vx 2019: 180038\n"
     ]
    }
   ],
   "source": [
    "print('koch: ' + str(koch_df.shape[0]))\n",
    "print('vx: ' + str(vx_df.shape[0]))\n",
    "print('koch 2019: ' + str(koch_df[time_mask_koch].shape[0]))\n",
    "print('vx 2019: ' + str(vx_df[time_mask_vx].shape[0]))"
   ],
   "metadata": {
    "collapsed": false,
    "pycharm": {
     "name": "#%%\n"
    }
   }
  },
  {
   "cell_type": "code",
   "execution_count": 5,
   "outputs": [],
   "source": [
    "vx_df['user'] = vx_df['user'].astype('category')\n",
    "vx_df['item'] = vx_df['item'].astype('category')\n",
    "\n",
    "cat_columns = vx_df.select_dtypes(['category']).columns\n",
    "vx_df[cat_columns] = vx_df[cat_columns].apply(lambda x: x.cat.codes)"
   ],
   "metadata": {
    "collapsed": false,
    "pycharm": {
     "name": "#%%\n"
    }
   }
  },
  {
   "cell_type": "code",
   "execution_count": 6,
   "outputs": [],
   "source": [
    "koch_df = koch_df[time_mask_koch]\n",
    "vx_df = vx_df[time_mask_vx]"
   ],
   "metadata": {
    "collapsed": false,
    "pycharm": {
     "name": "#%%\n"
    }
   }
  },
  {
   "cell_type": "code",
   "execution_count": null,
   "outputs": [],
   "source": [
    "koch_df[['user', 'item', 'time']].to_pickle(\"../data/curated/koch/b2b.pickle\", index=False)\n",
    "vx_df[['user', 'item', 'time']].to_pickle(\"../data/curated/vx/b2c.csv\",  index=False)\n"
   ],
   "metadata": {
    "collapsed": false,
    "pycharm": {
     "name": "#%%\n"
    }
   }
  },
  {
   "cell_type": "code",
   "execution_count": 7,
   "outputs": [],
   "source": [
    "koch_df['time'] = (koch_df['time'] - pd.Timestamp(\"1970-01-01\")) // pd.Timedelta('1s')\n",
    "vx_df['time'] = (vx_df['time'] - pd.Timestamp(\"1970-01-01\")) // pd.Timedelta('1s')"
   ],
   "metadata": {
    "collapsed": false,
    "pycharm": {
     "name": "#%%\n"
    }
   }
  },
  {
   "cell_type": "code",
   "execution_count": 8,
   "outputs": [],
   "source": [
    "koch_df[['user', 'item', 'time']].to_csv(\"../data/curated/koch/orderentry.csv\", header=False ,index=False)\n",
    "vx_df[['user', 'item', 'time']].to_csv(\"../data/curated/vx/orderentry.csv\", header=False, index=False)"
   ],
   "metadata": {
    "collapsed": false,
    "pycharm": {
     "name": "#%%\n"
    }
   }
  },
  {
   "cell_type": "code",
   "execution_count": null,
   "outputs": [],
   "source": [],
   "metadata": {
    "collapsed": false,
    "pycharm": {
     "name": "#%%\n"
    }
   }
  }
 ],
 "metadata": {
  "kernelspec": {
   "display_name": "Python 3",
   "language": "python",
   "name": "python3"
  },
  "language_info": {
   "codemirror_mode": {
    "name": "ipython",
    "version": 2
   },
   "file_extension": ".py",
   "mimetype": "text/x-python",
   "name": "python",
   "nbconvert_exporter": "python",
   "pygments_lexer": "ipython2",
   "version": "2.7.6"
  }
 },
 "nbformat": 4,
 "nbformat_minor": 0
}